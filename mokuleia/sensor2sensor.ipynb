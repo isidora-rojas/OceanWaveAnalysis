{
 "cells": [
  {
   "cell_type": "markdown",
   "id": "14181446",
   "metadata": {},
   "source": [
    "# Comparing offshore to nearshore sensor"
   ]
  },
  {
   "cell_type": "markdown",
   "id": "03d8a338",
   "metadata": {},
   "source": [
    "![instrument](figs/array.jpg)\n",
    "\n",
    "\n",
    "For this, I will be comparing sensor 1 and 6 in an attempt to:\n",
    "\n",
    "- compute spectra for both\n",
    "- compute bulk wave statistics\n",
    "- remove tide (potentially by subtracting S6-S1)\n",
    "- remove water depth signal \n",
    "- compute runup \n",
    "- compute changes in water level \n",
    "- look at specific storm events/model those events"
   ]
  },
  {
   "cell_type": "code",
   "execution_count": null,
   "id": "84699a46",
   "metadata": {
    "vscode": {
     "languageId": "plaintext"
    }
   },
   "outputs": [],
   "source": []
  },
  {
   "cell_type": "code",
   "execution_count": null,
   "id": "c399830d",
   "metadata": {
    "vscode": {
     "languageId": "plaintext"
    }
   },
   "outputs": [],
   "source": []
  },
  {
   "cell_type": "markdown",
   "id": "1a05c7b9",
   "metadata": {},
   "source": []
  }
 ],
 "metadata": {
  "language_info": {
   "name": "python"
  }
 },
 "nbformat": 4,
 "nbformat_minor": 5
}
