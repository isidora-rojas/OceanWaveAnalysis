{
 "cells": [
  {
   "cell_type": "code",
   "execution_count": 5,
   "id": "1b28162f",
   "metadata": {},
   "outputs": [],
   "source": [
    "import numpy as np"
   ]
  },
  {
   "cell_type": "markdown",
   "id": "54b7345b",
   "metadata": {},
   "source": [
    "Creates bathymetry file based off of Becker(2014) Ipan, Guam site data "
   ]
  },
  {
   "cell_type": "code",
   "execution_count": null,
   "id": "f695c4ae",
   "metadata": {},
   "outputs": [
    {
     "data": {
      "text/plain": [
       "('! x [m], depth [m, positive downward]\\n0.00 0.5000\\n1.00 0.5000\\n2.00 0.5000\\n3.00 0.5000\\n4.00 0.5000\\n5.00 0.5000\\n6.00 0.5000\\n7.00 0.5000\\n8.00 0.5000\\n9.00 0.5000\\n10.00 0.5000\\n',\n",
       " 'Becker_2014/ipan_transect.bot')"
      ]
     },
     "execution_count": 6,
     "metadata": {},
     "output_type": "execute_result"
    }
   ],
   "source": [
    "# Create SWASH .bot bathymetry files in /mnt/data for the user's 1D transect.\n",
    "# - Reef flat: 0–400 m, depth = 0.5 m\n",
    "# - Reef face: 400–580 m, slope = 0.06 (depth increases linearly to 11.3 m at 580 m)\n",
    "# - Offshore buffer: 580–650 m, constant 11.3 m\n",
    "\n",
    "import numpy as np\n",
    "from pathlib import Path\n",
    "\n",
    "out_dir = Path(\"Becker_2014/\")\n",
    "out_dir.mkdir(parents=True, exist_ok=True)\n",
    "\n",
    "dx = 1.0\n",
    "x_end = 650.0   # domain 0..650 m\n",
    "nx = int(x_end / dx) + 1  # include endpoint\n",
    "x = np.linspace(0.0, x_end, nx)\n",
    "\n",
    "# Base depth profile\n",
    "depth = np.zeros_like(x)\n",
    "\n",
    "# Reef flat: 0–400 m at 0.5 m depth\n",
    "depth[(x >= 0) & (x <= 400)] = 0.5\n",
    "\n",
    "# Reef face: 400–580 m, slope 0.06\n",
    "mask_slope = (x > 400) & (x <= 580)\n",
    "depth[mask_slope] = 0.5 + 0.06 * (x[mask_slope] - 400.0)\n",
    "\n",
    "# Offshore buffer: 580–650 m at 11.3 m depth\n",
    "depth[x > 580] = 11.3\n",
    "\n",
    "# Write helper to save a .bot file (two columns: x depth)\n",
    "def write_bot(filepath: Path, xvals, zvals):\n",
    "    header = \"! x [m], depth [m, positive downward]\\n\"\n",
    "    # Build 2-col array\n",
    "    arr = np.column_stack([xvals, zvals])\n",
    "    # Save with header; SWASH ignores lines starting with '!'\n",
    "    with open(filepath, \"w\") as f:\n",
    "        f.write(header)\n",
    "        np.savetxt(f, arr, fmt=[\"%.2f\", \"%.4f\"])\n",
    "\n",
    "# export file\n",
    "base_path = out_dir / \"ipan_transect.bot\"\n",
    "write_bot(base_path, x, depth)\n",
    "\n",
    "\n",
    "# Show a quick preview of the first 10 lines of the base file\n",
    "preview_lines = 12\n",
    "with open(base_path, \"r\") as f:\n",
    "    preview = \"\".join([next(f) for _ in range(preview_lines)])\n",
    "\n",
    "preview, str(base_path)\n"
   ]
  },
  {
   "cell_type": "markdown",
   "id": "75e21520",
   "metadata": {},
   "source": [
    "Create water level from tide fluctuations"
   ]
  },
  {
   "cell_type": "code",
   "execution_count": 9,
   "id": "f244f241",
   "metadata": {},
   "outputs": [
    {
     "name": "stdout",
     "output_type": "stream",
     "text": [
      "First 10 lines:\n",
      "! time[s]  water_level[m]\n",
      "     0    0.5000\n",
      "   600    0.5305\n",
      "  1200    0.5608\n",
      "  1800    0.5906\n",
      "  2400    0.6197\n",
      "  3000    0.6479\n",
      "  3600    0.6750\n",
      "  4200    0.7008\n",
      "  4800    0.7250\n",
      "  5400    0.7475\n"
     ]
    }
   ],
   "source": [
    "# Create a uniform tide time series file for SWASH READinp WLEVel NONSTAT usage.\n",
    "# Semidiurnal-like cycle over 12 hours, 10-min step. Mean 0.5 m, amplitude 0.35 m.\n",
    "import numpy as np\n",
    "from pathlib import Path\n",
    "\n",
    "out = Path(\"Becker_2014/ipan/ipan_tide.wlv\")\n",
    "\n",
    "t_total_hr = 12.0\n",
    "dt_min = 10.0\n",
    "times_sec = np.arange(0, t_total_hr*3600 + 1e-6, dt_min*60)  # in seconds\n",
    "mean = 0.5\n",
    "amp = 0.35\n",
    "eta = mean + amp * np.sin(2*np.pi*times_sec/(t_total_hr*3600))\n",
    "\n",
    "with open(out, \"w\") as f:\n",
    "    f.write(\"! time[s]  water_level[m]\\n\")\n",
    "    for t, z in zip(times_sec, eta):\n",
    "        f.write(f\"{int(t):6d}  {z:8.4f}\\n\")\n",
    "\n",
    "print(\"First 10 lines:\")\n",
    "print(\"\\n\".join(open(out).read().splitlines()[:11]))\n"
   ]
  },
  {
   "cell_type": "code",
   "execution_count": null,
   "id": "689b8870",
   "metadata": {},
   "outputs": [],
   "source": []
  }
 ],
 "metadata": {
  "kernelspec": {
   "display_name": "poke_data",
   "language": "python",
   "name": "python3"
  },
  "language_info": {
   "codemirror_mode": {
    "name": "ipython",
    "version": 3
   },
   "file_extension": ".py",
   "mimetype": "text/x-python",
   "name": "python",
   "nbconvert_exporter": "python",
   "pygments_lexer": "ipython3",
   "version": "3.12.7"
  }
 },
 "nbformat": 4,
 "nbformat_minor": 5
}
